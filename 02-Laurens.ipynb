{
 "cells": [
  {
   "cell_type": "markdown",
   "metadata": {},
   "source": [
    "Intcode program is a list\n",
    "opcode 1, 2, or 99\n",
    "99-end of program\n",
    "1 add l+1 + l+2 and storese in l+3\n",
    "2 multiplies l+1 * l+2 and stores in l+3\n",
    "after 99 forward 4 positions\n"
   ]
  },
  {
   "cell_type": "code",
   "execution_count": 12,
   "metadata": {},
   "outputs": [],
   "source": [
    "def Incode(ic):\n",
    "    i=0\n",
    "    while i<len(ic):\n",
    "        if ic[i]==99:\n",
    "            break\n",
    "        else:\n",
    "            a=ic[ic[i+1]]\n",
    "            b=ic[ic[i+2]]\n",
    "            ic[ic[i+3]]=a+b if ic[i]==1 else a*b\n",
    "        i+=4\n",
    "    return ic"
   ]
  },
  {
   "cell_type": "code",
   "execution_count": 13,
   "metadata": {},
   "outputs": [
    {
     "name": "stdout",
     "output_type": "stream",
     "text": [
      "[2, 0, 0, 0, 99]\n"
     ]
    }
   ],
   "source": [
    "ic = [1,0,0,0,99]\n",
    "print(Incode(ic))\n"
   ]
  },
  {
   "cell_type": "code",
   "execution_count": 73,
   "metadata": {},
   "outputs": [
    {
     "name": "stdout",
     "output_type": "stream",
     "text": [
      "19690720\n"
     ]
    }
   ],
   "source": [
    "icorg=[1,0,0,3,1,1,2,3,1,3,4,3,1,5,0,3,2,10,1,19,1,6,19,23,2,23,6,27,1,5,27,31,1,31,9,35,2,10,35,39,1,5,39,43,2,43,10,47,1,47,6,51,2,51,6,55,2,55,13,59,2,6,59,63,1,63,5,67,1,6,67,71,2,71,9,75,1,6,75,79,2,13,79,83,1,9,83,87,1,87,13,91,2,91,10,95,1,6,95,99,1,99,13,103,1,13,103,107,2,107,10,111,1,9,111,115,1,115,10,119,1,5,119,123,1,6,123,127,1,10,127,131,1,2,131,135,1,135,10,0,99,2,14,0,0]\n",
    "icorg[1]=31\n",
    "icorg[2]=46\n",
    "A=Incode(icorg)\n",
    "print(A[0])\n"
   ]
  },
  {
   "cell_type": "code",
   "execution_count": 72,
   "metadata": {},
   "outputs": [
    {
     "name": "stdout",
     "output_type": "stream",
     "text": [
      "noun=31,verb=46 makes output=19690720\n"
     ]
    }
   ],
   "source": [
    "for i in range(0,99):\n",
    "    for j in range(0,99):\n",
    "        ic1202=[1,0,0,3,1,1,2,3,1,3,4,3,1,5,0,3,2,10,1,19,1,6,19,23,2,23,6,27,1,5,27,31,1,31,9,35,2,10,35,39,1,5,39,43,2,43,10,47,1,47,6,51,2,51,6,55,2,55,13,59,2,6,59,63,1,63,5,67,1,6,67,71,2,71,9,75,1,6,75,79,2,13,79,83,1,9,83,87,1,87,13,91,2,91,10,95,1,6,95,99,1,99,13,103,1,13,103,107,2,107,10,111,1,9,111,115,1,115,10,119,1,5,119,123,1,6,123,127,1,10,127,131,1,2,131,135,1,135,10,0,99,2,14,0,0]\n",
    "        (ic1202[1],ic1202[2])=(i,j)\n",
    "        #ic1202[2]=j\n",
    "        output=Incode(ic1202)\n",
    "        if output[0]==19690720:\n",
    "            print('noun={},verb={} makes output={}'.format(i,j,output[0]))\n",
    "    "
   ]
  },
  {
   "cell_type": "code",
   "execution_count": 55,
   "metadata": {},
   "outputs": [
    {
     "name": "stdout",
     "output_type": "stream",
     "text": [
      "[1873086, 2, 12, 2, 1, 1, 2, 3, 1, 3, 4, 3, 1, 5, 0, 3, 2, 10, 1, 8, 1, 6, 19, 10, 2, 23, 6, 20, 1, 5, 27, 21, 1, 31, 9, 24, 2, 10, 35, 96, 1, 5, 39, 97, 2, 43, 10, 388, 1, 47, 6, 390, 2, 51, 6, 780, 2, 55, 13, 3900, 2, 6, 59, 7800, 1, 63, 5, 7801, 1, 6, 67, 7803, 2, 71, 9, 23409, 1, 6, 75, 23411, 2, 13, 79, 117055, 1, 9, 83, 117058, 1, 87, 13, 117063, 2, 91, 10, 468252, 1, 6, 95, 468254, 1, 99, 13, 468259, 1, 13, 103, 468264, 2, 107, 10, 1873056, 1, 9, 111, 1873059, 1, 115, 10, 1873063, 1, 5, 119, 1873064, 1, 6, 123, 1873066, 1, 10, 127, 1873070, 1, 2, 131, 1873082, 1, 135, 10, 0, 99, 2, 14, 0, 0]\n"
     ]
    }
   ],
   "source": [
    "print(icorg)"
   ]
  },
  {
   "cell_type": "code",
   "execution_count": 19,
   "metadata": {},
   "outputs": [
    {
     "data": {
      "text/plain": [
       "8017076"
      ]
     },
     "execution_count": 19,
     "metadata": {},
     "output_type": "execute_result"
    }
   ],
   "source": []
  },
  {
   "cell_type": "code",
   "execution_count": null,
   "metadata": {},
   "outputs": [],
   "source": []
  }
 ],
 "metadata": {
  "kernelspec": {
   "display_name": "Python 3",
   "language": "python",
   "name": "python3"
  },
  "language_info": {
   "codemirror_mode": {
    "name": "ipython",
    "version": 3
   },
   "file_extension": ".py",
   "mimetype": "text/x-python",
   "name": "python",
   "nbconvert_exporter": "python",
   "pygments_lexer": "ipython3",
   "version": "3.7.3"
  }
 },
 "nbformat": 4,
 "nbformat_minor": 2
}
