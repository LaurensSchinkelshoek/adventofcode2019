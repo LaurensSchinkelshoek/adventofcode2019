{
 "cells": [
  {
   "cell_type": "markdown",
   "metadata": {},
   "source": [
    "Two registers are available: T, the temporary value register, and J, the jump register. If the jump register is true at the end of the springscript program, the springdroid will try to jump. Both of these registers start with the value false.\n",
    "\n",
    "Sensor: one tile away (A), two tiles away (B), three tiles away (C), and four tiles away (D).\n",
    "\n",
    "three instructions available in springscript:\n",
    "\n",
    "- AND X Y sets Y to true if both X and Y are true; otherwise, it sets Y to false.\n",
    "- OR X Y sets Y to true if at least one of X or Y is true; otherwise, it sets Y to false.\n",
    "- NOT X Y sets Y to true if X is false; otherwise, it sets Y to false."
   ]
  },
  {
   "cell_type": "code",
   "execution_count": null,
   "metadata": {},
   "outputs": [],
   "source": []
  }
 ],
 "metadata": {
  "kernelspec": {
   "display_name": "Python 3",
   "language": "python",
   "name": "python3"
  },
  "language_info": {
   "codemirror_mode": {
    "name": "ipython",
    "version": 3
   },
   "file_extension": ".py",
   "mimetype": "text/x-python",
   "name": "python",
   "nbconvert_exporter": "python",
   "pygments_lexer": "ipython3",
   "version": "3.7.3"
  }
 },
 "nbformat": 4,
 "nbformat_minor": 2
}
