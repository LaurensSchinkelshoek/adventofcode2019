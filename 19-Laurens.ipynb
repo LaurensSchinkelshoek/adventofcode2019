{
 "cells": [
  {
   "cell_type": "code",
   "execution_count": 1,
   "metadata": {},
   "outputs": [],
   "source": [
    "def Intcode_list(inn,ic,i,rb):\n",
    "    j=0\n",
    "    while i<len(ic): \n",
    "        if ic[i]==99:\n",
    "            return (99,ic,i,rb)\n",
    "\n",
    "        else:\n",
    "            (A,B,C,opcode) = u.parse_code(ic[i])\n",
    "            (b,c) = u.read_bc(ic,i,B,C,rb)\n",
    "            #print(f'ic[i]:{ic[i]},b:{b},c:{c},i:{i}')\n",
    "            if opcode==1:\n",
    "                if A==1:\n",
    "                    ic[i+3]=c+b\n",
    "                elif A==2:\n",
    "                    ic[ic[i+3]+rb]=c+b\n",
    "                else:\n",
    "                    ic[ic[i+3]]=c+b\n",
    "                #print('c:{},b:{},c+b:{}'.format(c,b,c+b))\n",
    "            elif opcode==2:\n",
    "                if A==1:\n",
    "                    ic[i+3]=c*b\n",
    "                elif A==2:\n",
    "                    ic[ic[i+3]+rb]=c*b\n",
    "                else:\n",
    "                    ic[ic[i+3]]=c*b\n",
    "                #print('c:{},b:{},c*b:{}'.format(c,b,c*b))\n",
    "            elif opcode==3:\n",
    "                if C==1:\n",
    "                    ic[i+1]=inn[j]\n",
    "                elif C==2:\n",
    "                    ic[ic[i+1]+rb]=inn[j]\n",
    "                else:\n",
    "                    ic[ic[i+1]]=inn[j]\n",
    "                j+=1\n",
    "                #print(f'in:{inn}, immode:{immode1,immode2,immode3},imic:{ic[i+1]},ic:{ic[ic[i+1]]}')\n",
    "            elif opcode==4:\n",
    "                if C==1:\n",
    "                    output = ic[i+1] \n",
    "                    i+=2\n",
    "                    return (output,ic,i,rb)\n",
    "                elif C==2:\n",
    "                    output = ic[ic[i+1]+rb]\n",
    "                    i+=2\n",
    "                    return (output,ic,i,rb)\n",
    "                else:\n",
    "                    output = ic[ic[i+1]]\n",
    "                    i+=2\n",
    "                    return (output,ic,i,rb)\n",
    "                #print(f'out:{output}, immode:{immode1,immode2,immode3},imic:{ic[i+1]},ic:{ic[ic[i+1]]}')\n",
    "            elif opcode==5:\n",
    "                #if the first parameter is non-zero, it sets the instruction pointer to the value from the second parameter. Otherwise, it does nothing.\n",
    "                if c!=0:\n",
    "                    i=b\n",
    "                else:\n",
    "                    i+=3\n",
    "                #print(f'c:{c}b:{b},C:{C},B:{B}')\n",
    "            elif opcode==6:\n",
    "                #if the first parameter is zero, it sets the instruction pointer to the value from the second parameter. Otherwise, it does nothing.\n",
    "                if c==0:\n",
    "                    i=b\n",
    "                else:\n",
    "                    i+=3\n",
    "                #print(f'c:{c}b:{b},C:{C},B:{B}')\n",
    "            elif opcode==7:\n",
    "                #if the first parameter is less than the second parameter, it stores 1 in the position given by the third parameter. Otherwise, it stores 0.\n",
    "                if c<b:\n",
    "                    if A==1:\n",
    "                        ic[i+3]=1\n",
    "                    elif A==2:\n",
    "                        ic[ic[i+3]+rb]=1\n",
    "                    else:\n",
    "                        ic[ic[i+3]]=1\n",
    "                else: \n",
    "                    if A==1:\n",
    "                        ic[i+3]=0\n",
    "                    elif A==2:\n",
    "                        ic[ic[i+3]+rb]=0\n",
    "                    else:\n",
    "                        ic[ic[i+3]]=0\n",
    "                #print(f'c:{c}b:{b},C:{C},B:{B}')\n",
    "            elif opcode==8:\n",
    "                #if the first parameter is equal to the second parameter, it stores 1 in the position given by the third parameter. Otherwise, it stores 0.\n",
    "                if c==b:\n",
    "                    if A==1:\n",
    "                        ic[i+3]=1\n",
    "                    elif A==2:\n",
    "                        ic[ic[i+3]+rb]=1\n",
    "                    else:\n",
    "                        ic[ic[i+3]]=1\n",
    "                else: \n",
    "                    if A==1:\n",
    "                        ic[i+3]=0\n",
    "                    elif A==2:\n",
    "                        ic[ic[i+3]+rb]=0\n",
    "                    else:\n",
    "                        ic[ic[i+3]]=0\n",
    "                #print(f'a:{a}b:{b},C:{C},B:{B}')\n",
    "            elif opcode==9:\n",
    "                rb+=c\n",
    "            else:\n",
    "                print('error')\n",
    "        if opcode in (1,2,7,8):\n",
    "            i+=4\n",
    "        elif opcode in (3,9):\n",
    "            i+=2 \n",
    "        \n",
    "        #print(f'i:{i},rb:{rb}')\n",
    "        #print(output)\n",
    "        #print('-----------------')\n",
    "    return (output,ic,i,rb)"
   ]
  },
  {
   "cell_type": "code",
   "execution_count": 2,
   "metadata": {},
   "outputs": [],
   "source": [
    "import utils as u\n",
    "import numpy as np\n",
    "import pandas as pd\n",
    "from itertools import product\n",
    "import math\n",
    "\n",
    "ic_org=u.get_input('day19.txt').split(',')\n",
    "ic_org=[int(x) for x in ic_org]"
   ]
  },
  {
   "cell_type": "code",
   "execution_count": 3,
   "metadata": {},
   "outputs": [],
   "source": [
    "ic=ic_org.copy()+[0]*26000"
   ]
  },
  {
   "cell_type": "code",
   "execution_count": 5,
   "metadata": {},
   "outputs": [
    {
     "name": "stdout",
     "output_type": "stream",
     "text": [
      "for x:974, y:1242 output:(1, 1, 1) answer=9741242\n",
      "for x:975, y:1243 output:(1, 1, 1) answer=9751243\n",
      "for x:976, y:1244 output:(1, 1, 1) answer=9761244\n",
      "for x:977, y:1246 output:(1, 1, 1) answer=9771246\n",
      "for x:978, y:1247 output:(1, 1, 1) answer=9781247\n",
      "for x:979, y:1248 output:(1, 1, 1) answer=9791248\n",
      "for x:979, y:1249 output:(1, 1, 1) answer=9791249\n"
     ]
    }
   ],
   "source": [
    "i=rb=0\n",
    "grid=np.zeros((1500,1500))\n",
    "for x,y in product(range(965,980),range(1235,1260)):\n",
    "    ic=ic_org.copy()+[0]*26000\n",
    "    (output1,_,_,_)=Intcode_list([x,y],ic,i,rb)\n",
    "    ic=ic_org.copy()+[0]*26000\n",
    "    (output2,_,_,_)=Intcode_list([x+99,y],ic,i,rb)    \n",
    "    ic=ic_org.copy()+[0]*26000\n",
    "    (output3,_,_,_)=Intcode_list([x,y+99],ic,i,rb)\n",
    "    grid[x,y]=output1\n",
    "    grid[x+99,y]=output2\n",
    "    grid[x,y+99]=output3\n",
    "    if output1==1 and output2==1 and output3==1:\n",
    "        print(f'for x:{x}, y:{y} output:{output1,output2,output3} answer={x*10000+y}')"
   ]
  },
  {
   "cell_type": "code",
   "execution_count": null,
   "metadata": {},
   "outputs": [],
   "source": [
    "np.savetxt('day19_part2.csv',grid, delimiter=',',fmt='%1i')"
   ]
  },
  {
   "cell_type": "code",
   "execution_count": 4,
   "metadata": {},
   "outputs": [
    {
     "name": "stdout",
     "output_type": "stream",
     "text": [
      "1257.8823529411764 843.6663529411763\n"
     ]
    }
   ],
   "source": [
    "rc1=364/500\n",
    "rc2=432/500\n",
    "deltaA=(99*rc1)+99\n",
    "deltaB=(99*rc2)+99\n",
    "x=deltaA/(rc2-rc1)\n",
    "y=(x-99)*rc1\n",
    "print(x,y)"
   ]
  },
  {
   "cell_type": "code",
   "execution_count": null,
   "metadata": {},
   "outputs": [],
   "source": [
    "np.where(grid==1)"
   ]
  },
  {
   "cell_type": "markdown",
   "metadata": {},
   "source": [
    "x2 = ((m1 * 99) + 99) / (m2 - m1)\n",
    "y1 = m2 * x2 - 99"
   ]
  },
  {
   "cell_type": "code",
   "execution_count": null,
   "metadata": {},
   "outputs": [],
   "source": []
  }
 ],
 "metadata": {
  "kernelspec": {
   "display_name": "Python 3",
   "language": "python",
   "name": "python3"
  },
  "language_info": {
   "codemirror_mode": {
    "name": "ipython",
    "version": 3
   },
   "file_extension": ".py",
   "mimetype": "text/x-python",
   "name": "python",
   "nbconvert_exporter": "python",
   "pygments_lexer": "ipython3",
   "version": "3.7.3"
  }
 },
 "nbformat": 4,
 "nbformat_minor": 2
}
