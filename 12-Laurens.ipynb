{
 "cells": [
  {
   "cell_type": "code",
   "execution_count": 1,
   "metadata": {},
   "outputs": [],
   "source": [
    "import numpy as np\n",
    "import pandas as pd\n",
    "from utils import get_input \n",
    "import re\n",
    "import itertools\n",
    "from math import gcd"
   ]
  },
  {
   "cell_type": "markdown",
   "metadata": {},
   "source": [
    "Track four moons: Io, Europa, Ganymede and Callisto.\n",
    "\n",
    "Each moon has a (x, y, and z) position and velocity (vel_x,vel_y,vel_z). \n",
    "The position of each moon is given; the velocity starts at 0.\n",
    "\n",
    "Simulate the motion of the moons:\n",
    "1. update the velocity of every moon by applying gravity. \n",
    "2. update the position of every moon by applying velocity. \n",
    "Time progresses by one step once all of the positions are updated.\n",
    "\n",
    "Gravity:\n",
    "consider every pair of moons. \n",
    "On each axis (x, y, and z), the velocity of each moon changes by exactly +1 or -1 to pull the moons together.\n",
    "However, if the positions on a given axis are the same, the velocity on that axis does not change for that pair of moons.\n",
    "Velocity:\n",
    "Add the velocity of each moon to its own position\n",
    "\n",
    "total energy = pot * kin. Pot= sum(abs(x,y,z)) Kin = sum(abs(vel_x,vel_y,vel_z))"
   ]
  },
  {
   "cell_type": "code",
   "execution_count": 53,
   "metadata": {
    "scrolled": true
   },
   "outputs": [],
   "source": [
    "class Moon:\n",
    "    def __init__(self,position):\n",
    "        self.pos=position\n",
    "        self.vel=np.zeros((3),dtype=int)\n",
    "        self.pot=np.sum(np.abs(self.pos))\n",
    "        self.kin=0\n",
    "        self.tot=self.pot*self.kin\n",
    "        return None\n",
    "    \n",
    "    def energy(self):\n",
    "        self.pot=np.sum(np.abs(self.pos))\n",
    "        self.kin=np.sum(np.abs(self.vel))\n",
    "        self.tot=self.pot*self.kin\n",
    "        return self.tot\n",
    "\n",
    "def update_vel(moons):\n",
    "    for moon1,moon2 in itertools.product(moons, moons):\n",
    "        if moon1!=moon2:\n",
    "            delta=moons[moon2].pos-moons[moon1].pos\n",
    "            for i in range(len(delta)):\n",
    "                if delta[i]!=0:\n",
    "                    delta[i]=delta[i]/abs(delta[i])\n",
    "            moons[moon1].vel+=delta\n",
    "\n",
    "def update_pos(moons):\n",
    "    for moon in moons:\n",
    "        moons[moon].pos+=moons[moon].vel\n",
    "\n",
    "def safe_state(moons):\n",
    "    state={}\n",
    "    for i in  range(3):\n",
    "        state[i]=[]\n",
    "        for moon in moons:\n",
    "            state[i].append([moons[moon].pos[i],moons[moon].vel[i]])\n",
    "    return state\n",
    "\n",
    "def total_energy(moons):\n",
    "    return sum([moons[moon].energy() for mooon in moons])\n",
    "\n",
    "def sum_vel(moons):\n",
    "    return np.sum(np.abs([moons[moon].vel for mooon in moons]))\n"
   ]
  },
  {
   "cell_type": "code",
   "execution_count": 86,
   "metadata": {},
   "outputs": [],
   "source": [
    "moons={'Io':0,'Europa':0,'Ganymede':0,'Callisto':0}"
   ]
  },
  {
   "cell_type": "code",
   "execution_count": 87,
   "metadata": {
    "scrolled": true
   },
   "outputs": [],
   "source": [
    "#read starting position and create moons\n",
    "tekst=get_input('day12.txt')\n",
    "for line,moon in zip(tekst.split('\\n'),moons):\n",
    "    moons[moon]=Moon(np.asarray([int(x) for x in re.findall(\"[+-]?\\d+\",line)]))\n"
   ]
  },
  {
   "cell_type": "code",
   "execution_count": 57,
   "metadata": {},
   "outputs": [
    {
     "data": {
      "text/plain": [
       "{0: [[14, 0], [12, 0], [1, 0], [16, 0]],\n",
       " 1: [[4, 0], [10, 0], [7, 0], [-5, 0]],\n",
       " 2: [[5, 0], [8, 0], [-10, 0], [3, 0]]}"
      ]
     },
     "execution_count": 57,
     "metadata": {},
     "output_type": "execute_result"
    }
   ],
   "source": [
    "safe_state(moons)"
   ]
  },
  {
   "cell_type": "code",
   "execution_count": 22,
   "metadata": {
    "scrolled": true
   },
   "outputs": [
    {
     "data": {
      "text/plain": [
       "{'Io': <__main__.Moon at 0x2626186c9e8>,\n",
       " 'Europa': <__main__.Moon at 0x2626186c9b0>,\n",
       " 'Ganymede': <__main__.Moon at 0x2626186c978>,\n",
       " 'Callisto': <__main__.Moon at 0x2626186ca90>}"
      ]
     },
     "execution_count": 22,
     "metadata": {},
     "output_type": "execute_result"
    }
   ],
   "source": [
    "moons"
   ]
  },
  {
   "cell_type": "code",
   "execution_count": 88,
   "metadata": {
    "scrolled": false
   },
   "outputs": [
    {
     "name": "stdout",
     "output_type": "stream",
     "text": [
      "100000\n",
      "200000\n"
     ]
    }
   ],
   "source": [
    "i=0\n",
    "initial_state=safe_state(moons).copy()\n",
    "around={i:0 for i in range(3)}\n",
    "found=False\n",
    "#state=safe_state(moons)\n",
    "while found==False:\n",
    "    update_vel(moons)\n",
    "    update_pos(moons)\n",
    "    i+=1\n",
    "    if i%100000==0:\n",
    "        print(i)\n",
    "    state=safe_state(moons)\n",
    "    for j in range(3):\n",
    "        if np.array_equal(state[j],initial_state[j]) and around[j]==0:\n",
    "            around[j]=i\n",
    "    if 0 not in around.values():\n",
    "        found=True\n",
    "    "
   ]
  },
  {
   "cell_type": "code",
   "execution_count": 89,
   "metadata": {
    "scrolled": false
   },
   "outputs": [
    {
     "name": "stdout",
     "output_type": "stream",
     "text": [
      "{0: 167624, 1: 135024, 2: 231614}\n",
      "[167624, 135024, 231614]\n"
     ]
    }
   ],
   "source": [
    "a=[np.int64(x) for x in around.values()]\n",
    "print(around)\n",
    "print(a)"
   ]
  },
  {
   "cell_type": "code",
   "execution_count": null,
   "metadata": {},
   "outputs": [],
   "source": [
    "i=max(around.values())\n",
    "found=False\n",
    "while found==False:\n",
    "    if all(v == 0 for v in  [i%x for x in around.values()]):\n",
    "        print(i)\n",
    "        found=True\n",
    "    i+=max(around.values())\n",
    "        \n",
    "     \n",
    "    "
   ]
  },
  {
   "cell_type": "code",
   "execution_count": 90,
   "metadata": {},
   "outputs": [
    {
     "name": "stdout",
     "output_type": "stream",
     "text": [
      "327636285682704\n"
     ]
    }
   ],
   "source": [
    "\n",
    "lcm = a[0]\n",
    "for i in a[1:]:\n",
    "    lcm = np.lcm(lcm,i)\n",
    "print (lcm)"
   ]
  },
  {
   "cell_type": "code",
   "execution_count": null,
   "metadata": {},
   "outputs": [],
   "source": []
  },
  {
   "cell_type": "code",
   "execution_count": null,
   "metadata": {},
   "outputs": [],
   "source": [
    "\n",
    "    "
   ]
  },
  {
   "cell_type": "code",
   "execution_count": null,
   "metadata": {},
   "outputs": [],
   "source": []
  },
  {
   "cell_type": "code",
   "execution_count": null,
   "metadata": {},
   "outputs": [],
   "source": []
  },
  {
   "cell_type": "code",
   "execution_count": null,
   "metadata": {},
   "outputs": [],
   "source": []
  },
  {
   "cell_type": "code",
   "execution_count": null,
   "metadata": {},
   "outputs": [],
   "source": []
  },
  {
   "cell_type": "code",
   "execution_count": null,
   "metadata": {},
   "outputs": [],
   "source": []
  }
 ],
 "metadata": {
  "kernelspec": {
   "display_name": "Python 3",
   "language": "python",
   "name": "python3"
  },
  "language_info": {
   "codemirror_mode": {
    "name": "ipython",
    "version": 3
   },
   "file_extension": ".py",
   "mimetype": "text/x-python",
   "name": "python",
   "nbconvert_exporter": "python",
   "pygments_lexer": "ipython3",
   "version": "3.7.3"
  }
 },
 "nbformat": 4,
 "nbformat_minor": 2
}
