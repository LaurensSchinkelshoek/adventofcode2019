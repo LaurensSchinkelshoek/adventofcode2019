{
 "cells": [
  {
   "cell_type": "code",
   "execution_count": 1,
   "metadata": {},
   "outputs": [],
   "source": [
    "import re\n"
   ]
  },
  {
   "cell_type": "code",
   "execution_count": 2,
   "metadata": {},
   "outputs": [],
   "source": [
    "tekst='''10 ORE => 10 A\n",
    "1 ORE => 1 B\n",
    "7 A, 1 B => 1 C\n",
    "7 A, 1 C => 1 D\n",
    "7 A, 1 D => 1 E\n",
    "7 A, 1 E => 1 FUEL'''.split('\\n')"
   ]
  },
  {
   "cell_type": "code",
   "execution_count": 47,
   "metadata": {},
   "outputs": [],
   "source": [
    "#read materials \n",
    "material=[]\n",
    "for line in tekst:\n",
    "    x=re.search('(\\w+)$',line)\n",
    "    material.append(x.group())\n",
    "keys=['produced','stock','reaction']\n"
   ]
  },
  {
   "cell_type": "code",
   "execution_count": 65,
   "metadata": {},
   "outputs": [],
   "source": [
    "#create dic\n",
    "dic={ x:{ key:[] for key in keys} for x in material}"
   ]
  },
  {
   "cell_type": "code",
   "execution_count": 79,
   "metadata": {},
   "outputs": [],
   "source": [
    "#add produced to dic\n",
    "for line,mat,recept in zip(tekst,dic,[x.split('=>') for x in tekst]):\n",
    "    a=line.split('=>')\n",
    "    x=re.search('([0-9]+)',a[1])\n",
    "    dic[mat]['produced']=int(x.group())\n",
    "    dic[mat]['stock']=0\n",
    "    dic[mat]['reaction']=recept[0].split(',')"
   ]
  },
  {
   "cell_type": "code",
   "execution_count": 81,
   "metadata": {},
   "outputs": [],
   "source": [
    "dic['ORE']={'produced':1,'stock':1000000,'reaction':[]}"
   ]
  },
  {
   "cell_type": "code",
   "execution_count": null,
   "metadata": {},
   "outputs": [],
   "source": [
    "#def produce(material,dic):\n",
    "    reaction=dic[material]['reaction']"
   ]
  },
  {
   "cell_type": "code",
   "execution_count": 93,
   "metadata": {},
   "outputs": [
    {
     "data": {
      "text/plain": [
       "['7', 'A']"
      ]
     },
     "execution_count": 93,
     "metadata": {},
     "output_type": "execute_result"
    }
   ],
   "source": [
    "reaction=dic['D']['reaction']\n",
    "reaction=reaction[0].split(' ')\n",
    "reaction"
   ]
  },
  {
   "cell_type": "code",
   "execution_count": 41,
   "metadata": {},
   "outputs": [],
   "source": []
  },
  {
   "cell_type": "code",
   "execution_count": 42,
   "metadata": {},
   "outputs": [],
   "source": []
  },
  {
   "cell_type": "code",
   "execution_count": 82,
   "metadata": {},
   "outputs": [
    {
     "data": {
      "text/plain": [
       "{'A': {'produced': '10', 'stock': 0, 'reaction': ['10 ORE ']},\n",
       " 'B': {'produced': '1', 'stock': 0, 'reaction': ['1 ORE ']},\n",
       " 'C': {'produced': '1', 'stock': 0, 'reaction': ['7 A', ' 1 B ']},\n",
       " 'D': {'produced': '1', 'stock': 0, 'reaction': ['7 A', ' 1 C ']},\n",
       " 'E': {'produced': '1', 'stock': 0, 'reaction': ['7 A', ' 1 D ']},\n",
       " 'FUEL': {'produced': '1', 'stock': 0, 'reaction': ['7 A', ' 1 E ']},\n",
       " 'ORE': {'produced': 1, 'stock': 1000000, 'reaction': []}}"
      ]
     },
     "execution_count": 82,
     "metadata": {},
     "output_type": "execute_result"
    }
   ],
   "source": [
    "dic"
   ]
  },
  {
   "cell_type": "code",
   "execution_count": null,
   "metadata": {},
   "outputs": [],
   "source": []
  }
 ],
 "metadata": {
  "kernelspec": {
   "display_name": "Python 3",
   "language": "python",
   "name": "python3"
  },
  "language_info": {
   "codemirror_mode": {
    "name": "ipython",
    "version": 3
   },
   "file_extension": ".py",
   "mimetype": "text/x-python",
   "name": "python",
   "nbconvert_exporter": "python",
   "pygments_lexer": "ipython3",
   "version": "3.7.3"
  }
 },
 "nbformat": 4,
 "nbformat_minor": 2
}
