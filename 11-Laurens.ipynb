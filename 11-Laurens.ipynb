{
 "cells": [
  {
   "cell_type": "markdown",
   "metadata": {},
   "source": [
    "Input for Incode is black or white. (All of the panels are currently black.)\n",
    "The program uses input instructions to access the robot's camera: \n",
    "- 0 if the robot is over a black panel \n",
    "- 1 if the robot is over a white panel.\n",
    "\n",
    "Intcode output:\n",
    "- First, it will output a value indicating the color to paint the panel the robot is over: 0 means to paint the panel black, and 1 means to paint the panel white.\n",
    "- Second, it will output a value indicating the direction the robot should turn: 0 means it should turn left 90 degrees, and 1 means it should turn right 90 degrees.\n",
    "\n",
    "Robot actions:\n",
    "- It paints\n",
    "- It turns\n",
    "- it moves forward 1 panel\n",
    "- it stops when it receives 99\n",
    "\n",
    "After the robot turns, it should always move forward exactly one panel. The robot starts facing up.\n",
    "\n",
    "The robot will continue running for a while like this and halt when it is finished drawing. Do not restart the Intcode computer inside the robot during this process.\n"
   ]
  },
  {
   "cell_type": "code",
   "execution_count": 1,
   "metadata": {},
   "outputs": [],
   "source": [
    "import numpy as np\n",
    "\n",
    "def parse_code(code):\n",
    "    A=int(code/10000)\n",
    "    B=int((code-A*10000)/1000)\n",
    "    C=int((code-A*10000-B*1000)/100)\n",
    "    opcode=int((code-A*10000-B*1000-C*100))\n",
    "    return(A,B,C,opcode)\n",
    "\n",
    "def read_bc(ic,i,B,C,rb):\n",
    "    if C==0:\n",
    "        c=ic[ic[i+1]]\n",
    "    elif C==1:\n",
    "        c=ic[i+1]\n",
    "    else:\n",
    "        c=ic[ic[i+1]+rb]\n",
    "    if B==0:\n",
    "        b=ic[ic[i+2]]\n",
    "    elif B==1:\n",
    "        b=ic[i+2]\n",
    "    else:\n",
    "        b=ic[ic[i+2]+rb]\n",
    "    return (b,c)\n",
    "\n",
    "def Incode(inn,ic,i,rb):\n",
    "    while i<len(ic):\n",
    "        \n",
    "        if ic[i]==99:\n",
    "            return (99,ic,i,rb)\n",
    "\n",
    "        else:\n",
    "            (A,B,C,opcode) = parse_code(ic[i])\n",
    "            (b,c) = read_bc(ic,i,B,C,rb)\n",
    "            #print(f'ic[i]:{ic[i]},b:{b},c:{c},i:{i}')\n",
    "            if opcode==1:\n",
    "                if A==1:\n",
    "                    ic[i+3]=c+b\n",
    "                elif A==2:\n",
    "                    ic[ic[i+3]+rb]=c+b\n",
    "                else:\n",
    "                    ic[ic[i+3]]=c+b\n",
    "                #print('c:{},b:{},c+b:{}'.format(c,b,c+b))\n",
    "            elif opcode==2:\n",
    "                if A==1:\n",
    "                    ic[i+3]=c*b\n",
    "                elif A==2:\n",
    "                    ic[ic[i+3]+rb]=c*b\n",
    "                else:\n",
    "                    ic[ic[i+3]]=c*b\n",
    "                #print('c:{},b:{},c*b:{}'.format(c,b,c*b))\n",
    "            elif opcode==3:\n",
    "                if C==1:\n",
    "                    ic[i+1]=inn\n",
    "                elif C==2:\n",
    "                    ic[ic[i+1]+rb]=inn\n",
    "                else:\n",
    "                    ic[ic[i+1]]=inn\n",
    "                #print(f'in:{inn}, immode:{immode1,immode2,immode3},imic:{ic[i+1]},ic:{ic[ic[i+1]]}')\n",
    "            elif opcode==4:\n",
    "                if C==1:\n",
    "                    output = ic[i+1] \n",
    "                    i+=2\n",
    "                    return (output,ic,i,rb)\n",
    "                elif C==2:\n",
    "                    output = ic[ic[i+1]+rb]\n",
    "                    i+=2\n",
    "                    return (output,ic,i,rb)\n",
    "                else:\n",
    "                    output = ic[ic[i+1]]\n",
    "                    i+=2\n",
    "                    return (output,ic,i,rb)\n",
    "                #print(f'out:{output}, immode:{immode1,immode2,immode3},imic:{ic[i+1]},ic:{ic[ic[i+1]]}')\n",
    "            elif opcode==5:\n",
    "                #if the first parameter is non-zero, it sets the instruction pointer to the value from the second parameter. Otherwise, it does nothing.\n",
    "                if c!=0:\n",
    "                    i=b\n",
    "                else:\n",
    "                    i+=3\n",
    "                #print(f'c:{c}b:{b},C:{C},B:{B}')\n",
    "            elif opcode==6:\n",
    "                #if the first parameter is zero, it sets the instruction pointer to the value from the second parameter. Otherwise, it does nothing.\n",
    "                if c==0:\n",
    "                    i=b\n",
    "                else:\n",
    "                    i+=3\n",
    "                #print(f'c:{c}b:{b},C:{C},B:{B}')\n",
    "            elif opcode==7:\n",
    "                #if the first parameter is less than the second parameter, it stores 1 in the position given by the third parameter. Otherwise, it stores 0.\n",
    "                if c<b:\n",
    "                    if A==1:\n",
    "                        ic[i+3]=1\n",
    "                    elif A==2:\n",
    "                        ic[ic[i+3]+rb]=1\n",
    "                    else:\n",
    "                        ic[ic[i+3]]=1\n",
    "                else: \n",
    "                    if A==1:\n",
    "                        ic[i+3]=0\n",
    "                    elif A==2:\n",
    "                        ic[ic[i+3]+rb]=0\n",
    "                    else:\n",
    "                        ic[ic[i+3]]=0\n",
    "                #print(f'c:{c}b:{b},C:{C},B:{B}')\n",
    "            elif opcode==8:\n",
    "                #if the first parameter is equal to the second parameter, it stores 1 in the position given by the third parameter. Otherwise, it stores 0.\n",
    "                if c==b:\n",
    "                    if A==1:\n",
    "                        ic[i+3]=1\n",
    "                    elif A==2:\n",
    "                        ic[ic[i+3]+rb]=1\n",
    "                    else:\n",
    "                        ic[ic[i+3]]=1\n",
    "                else: \n",
    "                    if A==1:\n",
    "                        ic[i+3]=0\n",
    "                    elif A==2:\n",
    "                        ic[ic[i+3]+rb]=0\n",
    "                    else:\n",
    "                        ic[ic[i+3]]=0\n",
    "                #print(f'a:{a}b:{b},C:{C},B:{B}')\n",
    "            elif opcode==9:\n",
    "                rb+=c\n",
    "            else:\n",
    "                print('error')\n",
    "        if opcode in (1,2,7,8):\n",
    "            i+=4\n",
    "        elif opcode in (3,9):\n",
    "            i+=2 \n",
    "        \n",
    "        #print(f'i:{i},rb:{rb}')\n",
    "        #print(output)\n",
    "        #print('-----------------')\n",
    "    return (output,ic,i,rb)\n"
   ]
  },
  {
   "cell_type": "code",
   "execution_count": 2,
   "metadata": {},
   "outputs": [],
   "source": [
    "class Robot:\n",
    "    #Robot actions: 1. input from Intcode. 2. Paints 3. Turns 4. Moves\n",
    "    #Stops when: input='Done'\n",
    "    #Input[0]: 0=black, 1=white. Input[1]: 0=turn left, 1=turn right\n",
    "    def __init__(self,start):\n",
    "        #0:'up',1:'right',2:'down',3:'left'\n",
    "        self.dirs={0:1,1:1,2:-1,3:-1}\n",
    "        self.dir=0\n",
    "        self.position=start\n",
    "        return\n",
    "    \n",
    "    def position(self):\n",
    "        return self.position\n",
    "    \n",
    "    def paint(self,inst):\n",
    "        return '.' if inst==0 else '#'\n",
    "    \n",
    "    def move(self,inst):\n",
    "        #first turn\n",
    "        if inst==0:\n",
    "            self.dir-=1\n",
    "            if self.dir==-1:\n",
    "                self.dir=3\n",
    "        elif inst==1:\n",
    "            self.dir+=1\n",
    "            if self.dir==4:\n",
    "                self.dir=0\n",
    "        else:\n",
    "            return False\n",
    "        #then move\n",
    "        if self.dir in (0,2):\n",
    "            self.position['y']+=self.dirs[self.dir]\n",
    "        else:\n",
    "            self.position['x']+=self.dirs[self.dir]\n",
    "        return True\n",
    "    \n",
    "    def camera(self,postion):\n",
    "        pass\n",
    "        "
   ]
  },
  {
   "cell_type": "code",
   "execution_count": 3,
   "metadata": {},
   "outputs": [],
   "source": [
    "class Computer:\n",
    "    def __init__(self,ic):\n",
    "        self.ic=ic+[0]*30000\n",
    "        self.i=0\n",
    "        self.rb=0\n",
    "        return\n",
    "    #Input from robot: 0 Black, 1 White\n",
    "    #Output for robot: 1. designated color 2. turn left (0) or right (1)\n",
    "    \n",
    "    def update(self,inn):    \n",
    "        (output1,self.ic,self.i,self.rb)=Incode(inn,self.ic,self.i,self.rb)\n",
    "        (output2,self.ic,self.i,self.rb)=Incode(inn,self.ic,self.i,self.rb)\n",
    "        return [output1,output2]\n",
    "\n",
    "    def reset(self,ic):\n",
    "        self.ic=ic\n",
    "        self.i=0\n",
    "        return\n"
   ]
  },
  {
   "cell_type": "code",
   "execution_count": 4,
   "metadata": {},
   "outputs": [],
   "source": [
    "def get_input(filename):\n",
    "    with open(filename,'r') as f:\n",
    "        data=f.read()\n",
    "    return data.split(',')\n",
    "        "
   ]
  },
  {
   "cell_type": "code",
   "execution_count": 13,
   "metadata": {},
   "outputs": [],
   "source": [
    "rast=np.full((200,20),'.',dtype=str)\n",
    "IC_org=get_input('day11.txt')\n",
    "IC_org = [ int(x) for x in IC_org ]\n",
    "start={'x':10,'y':10}\n",
    "rast[start['x'],start['y']]='#'"
   ]
  },
  {
   "cell_type": "code",
   "execution_count": 15,
   "metadata": {},
   "outputs": [],
   "source": [
    "robot=Robot(start)\n",
    "computer=Computer(IC_org.copy())"
   ]
  },
  {
   "cell_type": "code",
   "execution_count": 16,
   "metadata": {},
   "outputs": [],
   "source": [
    "#Input[0]: 0=black, 1=white\n",
    "running=True\n",
    "path=[]\n",
    "while running:\n",
    "    #camera reads color\n",
    "    color=0 if rast[robot.position['x'],robot.position['y']]=='.' else 1\n",
    "    #color is given to intcode computer to receive instructions\n",
    "    instruction=computer.update(color)\n",
    "    #robot paints as instructed\n",
    "    rast[robot.position['x'],robot.position['y']]= robot.paint(instruction[0])\n",
    "    #robot turns and moves to new position\n",
    "    running=robot.move(instruction[1])\n",
    "    path.append((robot.position['x'],robot.position['y']))\n",
    "    \n",
    "    "
   ]
  },
  {
   "cell_type": "code",
   "execution_count": null,
   "metadata": {},
   "outputs": [],
   "source": [
    "rast[245:255,245:255]"
   ]
  },
  {
   "cell_type": "code",
   "execution_count": 14,
   "metadata": {},
   "outputs": [],
   "source": [
    "del robot\n",
    "del computer"
   ]
  },
  {
   "cell_type": "code",
   "execution_count": null,
   "metadata": {},
   "outputs": [],
   "source": [
    "robot.position"
   ]
  },
  {
   "cell_type": "code",
   "execution_count": 18,
   "metadata": {},
   "outputs": [],
   "source": [
    "np.savetxt('rast.csv', rast, delimiter=';',fmt='%s')\n"
   ]
  },
  {
   "cell_type": "code",
   "execution_count": 17,
   "metadata": {},
   "outputs": [
    {
     "data": {
      "text/plain": [
       "249"
      ]
     },
     "execution_count": 17,
     "metadata": {},
     "output_type": "execute_result"
    }
   ],
   "source": [
    "len(set(path))"
   ]
  },
  {
   "cell_type": "code",
   "execution_count": 9,
   "metadata": {},
   "outputs": [],
   "source": [
    "minx=9999\n",
    "miny=9999\n",
    "maxx=0\n",
    "maxy=0\n",
    "for x,y in path:\n",
    "    minx=min(minx,x)\n",
    "    miny=min(miny,y)\n",
    "    maxx=max(maxx,x)\n",
    "    maxy=max(maxy,y)"
   ]
  },
  {
   "cell_type": "code",
   "execution_count": 10,
   "metadata": {},
   "outputs": [
    {
     "name": "stdout",
     "output_type": "stream",
     "text": [
      "2000 2042 995 1000\n"
     ]
    }
   ],
   "source": [
    "print(minx,maxx,miny,maxy)"
   ]
  },
  {
   "cell_type": "code",
   "execution_count": 12,
   "metadata": {},
   "outputs": [
    {
     "data": {
      "text/plain": [
       "42"
      ]
     },
     "execution_count": 12,
     "metadata": {},
     "output_type": "execute_result"
    }
   ],
   "source": [
    "maxx-minx"
   ]
  },
  {
   "cell_type": "code",
   "execution_count": null,
   "metadata": {},
   "outputs": [],
   "source": []
  }
 ],
 "metadata": {
  "kernelspec": {
   "display_name": "Python 3",
   "language": "python",
   "name": "python3"
  },
  "language_info": {
   "codemirror_mode": {
    "name": "ipython",
    "version": 3
   },
   "file_extension": ".py",
   "mimetype": "text/x-python",
   "name": "python",
   "nbconvert_exporter": "python",
   "pygments_lexer": "ipython3",
   "version": "3.7.3"
  }
 },
 "nbformat": 4,
 "nbformat_minor": 2
}
