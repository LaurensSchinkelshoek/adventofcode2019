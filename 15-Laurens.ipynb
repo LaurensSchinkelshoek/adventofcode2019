{
 "cells": [
  {
   "cell_type": "markdown",
   "metadata": {},
   "source": [
    "The remote control program executes the following steps in a loop forever:\n",
    "\n",
    "- Accept a movement command via an input instruction.\n",
    "- Send the movement command to the repair droid.\n",
    "- Wait for the repair droid to finish the movement operation.\n",
    "- Report on the status of the repair droid via an output instruction.\n",
    "\n",
    "movement commands: north (1), south (2), west (3), and east (4).\n",
    "\n",
    "The repair droid can reply with any of the following status codes:\n",
    "\n",
    "- 0: The repair droid hit a wall. Its position has not changed.\n",
    "- 1: The repair droid has moved one step in the requested direction.\n",
    "- 2: The repair droid has moved one step in the requested direction; its new position is the location of the oxygen system."
   ]
  },
  {
   "cell_type": "code",
   "execution_count": 1,
   "metadata": {},
   "outputs": [],
   "source": [
    "import utils as u\n",
    "import numpy as np\n",
    "import pandas as pd\n",
    "\n",
    "class Position:\n",
    "    def __init__(self,x,y):\n",
    "        self.x=x\n",
    "        self.y=y\n",
    "        return"
   ]
  },
  {
   "cell_type": "code",
   "execution_count": 2,
   "metadata": {},
   "outputs": [],
   "source": [
    "ic_org=u.get_input('day15.txt').split(',')\n",
    "ic_org=[int(x) for x in ic_org]\n",
    "\n",
    "    \n",
    "    "
   ]
  },
  {
   "cell_type": "code",
   "execution_count": 14,
   "metadata": {},
   "outputs": [],
   "source": [
    "grid=u.get_grid(ic_org.copy())\n"
   ]
  },
  {
   "cell_type": "code",
   "execution_count": 15,
   "metadata": {},
   "outputs": [],
   "source": [
    "(x,y)=np.where(grid=='O')\n",
    "position=Position(x,y)\n",
    "positions={1:position}"
   ]
  },
  {
   "cell_type": "code",
   "execution_count": 16,
   "metadata": {},
   "outputs": [
    {
     "name": "stdout",
     "output_type": "stream",
     "text": [
      "i:312\n"
     ]
    }
   ],
   "source": [
    "i=0\n",
    "while not np.all(np.isin(grid,'.',invert=True)):\n",
    "    new_positions={}\n",
    "    j=0\n",
    "    for pos in positions.values():\n",
    "        if grid[pos.x+1,pos.y]=='.':\n",
    "            grid[pos.x+1,pos.y]=i\n",
    "            new_positions[j]=Position(pos.x+1,pos.y)\n",
    "            j+=1\n",
    "        if grid[pos.x-1,pos.y]=='.':\n",
    "            grid[pos.x-1,pos.y]=i\n",
    "            new_positions[j]=Position(pos.x-1,pos.y)\n",
    "            j+=1 \n",
    "        if grid[pos.x,pos.y+1]=='.':\n",
    "            grid[pos.x,pos.y+1]=i\n",
    "            new_positions[j]=Position(pos.x,pos.y+1)\n",
    "            j+=1\n",
    "        if grid[pos.x,pos.y-1]=='.':\n",
    "            grid[pos.x,pos.y-1]=i\n",
    "            new_positions[j]=Position(pos.x,pos.y-1)\n",
    "            j+=1\n",
    "    positions=new_positions.copy()\n",
    "    i+=1\n",
    "print(f'i:{i}')"
   ]
  },
  {
   "cell_type": "code",
   "execution_count": 17,
   "metadata": {},
   "outputs": [
    {
     "data": {
      "text/plain": [
       "array([['', '', '', ..., '', '', ''],\n",
       "       ['', '', '', ..., '', '', ''],\n",
       "       ['', '', '', ..., '', '', ''],\n",
       "       ...,\n",
       "       ['', '', '', ..., '', '', ''],\n",
       "       ['', '', '', ..., '', '', ''],\n",
       "       ['', '', '', ..., '', '', '']], dtype='<U1')"
      ]
     },
     "execution_count": 17,
     "metadata": {},
     "output_type": "execute_result"
    }
   ],
   "source": [
    "grid"
   ]
  },
  {
   "cell_type": "code",
   "execution_count": 11,
   "metadata": {},
   "outputs": [
    {
     "name": "stdout",
     "output_type": "stream",
     "text": [
      "[68]\n"
     ]
    }
   ],
   "source": [
    "for pos in positions.values():\n",
    "    print(pos.x)"
   ]
  },
  {
   "cell_type": "code",
   "execution_count": 18,
   "metadata": {},
   "outputs": [],
   "source": [
    "np.savetxt('day15_part2.csv',grid, delimiter=',', fmt='%s')"
   ]
  },
  {
   "cell_type": "code",
   "execution_count": null,
   "metadata": {},
   "outputs": [],
   "source": []
  },
  {
   "cell_type": "code",
   "execution_count": null,
   "metadata": {},
   "outputs": [],
   "source": []
  }
 ],
 "metadata": {
  "kernelspec": {
   "display_name": "Python 3",
   "language": "python",
   "name": "python3"
  },
  "language_info": {
   "codemirror_mode": {
    "name": "ipython",
    "version": 3
   },
   "file_extension": ".py",
   "mimetype": "text/x-python",
   "name": "python",
   "nbconvert_exporter": "python",
   "pygments_lexer": "ipython3",
   "version": "3.7.3"
  }
 },
 "nbformat": 4,
 "nbformat_minor": 2
}
