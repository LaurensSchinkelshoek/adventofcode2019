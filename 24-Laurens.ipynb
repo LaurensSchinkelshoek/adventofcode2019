{
 "cells": [
  {
   "cell_type": "code",
   "execution_count": 132,
   "metadata": {},
   "outputs": [],
   "source": [
    "import numpy as np\n",
    "import utils as u\n",
    "import itertools\n",
    "\n",
    "def bugslife(grid):\n",
    "    #evaluates life in grid and generate next step\n",
    "    new_grid=np.zeros((5,5))==1\n",
    "    for x,y in itertools.product(range(grid.shape[0]),range(grid.shape[1])):\n",
    "        #count neighbours:\n",
    "        neighbours=0\n",
    "        if  x==0:\n",
    "            neighbours+=int(grid[x+1,y])\n",
    "        elif x==4:\n",
    "            neighbours+=int(grid[x-1,y])\n",
    "        else:\n",
    "            neighbours+=(int(grid[x-1,y])+int(grid[x+1,y]))\n",
    "        if  y==0:\n",
    "            neighbours+=int(grid[x,y+1]) \n",
    "        elif y==4:\n",
    "            neighbours+=int(grid[x,y-1])\n",
    "        else:\n",
    "            neighbours+=(int(grid[x,y-1])+int(grid[x,y+1]))\n",
    "        #build new grid:\n",
    "        if grid[x,y]:\n",
    "            new_grid[x,y] = neighbours==1\n",
    "        else:\n",
    "            new_grid[x,y] = neighbours in (1,2)\n",
    "    return new_grid\n",
    "        \n",
    "def biodiv(grid):\n",
    "    score=0\n",
    "    for i,x in enumerate(np.nditer(grid)):\n",
    "        if x:\n",
    "            score+=2**i\n",
    "    return score"
   ]
  },
  {
   "cell_type": "code",
   "execution_count": 145,
   "metadata": {},
   "outputs": [],
   "source": [
    "tekst=u.get_input('day24.txt')\n",
    "#tekst=tekst.split('\\n')\n",
    "grid0=np.array([list(x) for x in tekst.split('\\n')])\n",
    "grid0=grid0=='#'"
   ]
  },
  {
   "cell_type": "markdown",
   "metadata": {},
   "source": [
    "A bugslife\n",
    "- A bug dies (becoming an empty space) unless there is exactly one bug adjacent to it.\n",
    "- An empty space becomes infested with a bug if exactly one or two bugs are adjacent to it."
   ]
  },
  {
   "cell_type": "code",
   "execution_count": 146,
   "metadata": {},
   "outputs": [
    {
     "name": "stdout",
     "output_type": "stream",
     "text": [
      "23846449\n"
     ]
    }
   ],
   "source": [
    "grids={0:grid0}\n",
    "bioscore=[biodiv(grids[0])]\n",
    "done=False\n",
    "i=1\n",
    "while not done:\n",
    "    grids[i]=bugslife(grids[i-1])\n",
    "    bioscore.append(biodiv(grids[i]))\n",
    "    done = not len(bioscore) == len(set(bioscore))\n",
    "    i+=1\n",
    "print(bioscore[-1])"
   ]
  },
  {
   "cell_type": "code",
   "execution_count": 141,
   "metadata": {},
   "outputs": [
    {
     "data": {
      "text/plain": [
       "False"
      ]
     },
     "execution_count": 141,
     "metadata": {},
     "output_type": "execute_result"
    }
   ],
   "source": [
    "not len(bioscore) == len(set(bioscore))"
   ]
  },
  {
   "cell_type": "code",
   "execution_count": 143,
   "metadata": {},
   "outputs": [
    {
     "data": {
      "text/plain": [
       "2129920"
      ]
     },
     "execution_count": 143,
     "metadata": {},
     "output_type": "execute_result"
    }
   ],
   "source": [
    "bioscore[-1]"
   ]
  },
  {
   "cell_type": "code",
   "execution_count": null,
   "metadata": {},
   "outputs": [],
   "source": []
  },
  {
   "cell_type": "code",
   "execution_count": null,
   "metadata": {},
   "outputs": [],
   "source": []
  },
  {
   "cell_type": "code",
   "execution_count": null,
   "metadata": {},
   "outputs": [],
   "source": []
  },
  {
   "cell_type": "code",
   "execution_count": null,
   "metadata": {},
   "outputs": [],
   "source": []
  },
  {
   "cell_type": "code",
   "execution_count": null,
   "metadata": {},
   "outputs": [],
   "source": []
  }
 ],
 "metadata": {
  "kernelspec": {
   "display_name": "Python 3",
   "language": "python",
   "name": "python3"
  },
  "language_info": {
   "codemirror_mode": {
    "name": "ipython",
    "version": 3
   },
   "file_extension": ".py",
   "mimetype": "text/x-python",
   "name": "python",
   "nbconvert_exporter": "python",
   "pygments_lexer": "ipython3",
   "version": "3.7.3"
  }
 },
 "nbformat": 4,
 "nbformat_minor": 2
}
