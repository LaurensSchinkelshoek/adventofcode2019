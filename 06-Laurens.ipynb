{
 "cells": [
  {
   "cell_type": "markdown",
   "metadata": {},
   "source": [
    "Oribtal map\n",
    "In the map data, this orbital relationship is written AAA)BBB, which means \"BBB is in orbit around AAA\".\n",
    "orbit count checksums - the total number of direct orbits (like the one shown above) and indirect orbits.\n",
    "COM: universal Center of Mass "
   ]
  },
  {
   "cell_type": "code",
   "execution_count": 11,
   "metadata": {},
   "outputs": [],
   "source": [
    "import pandas as pd\n",
    "import numpy as np\n",
    "from collections import Counter"
   ]
  },
  {
   "cell_type": "code",
   "execution_count": 51,
   "metadata": {},
   "outputs": [],
   "source": [
    "map= pd.read_csv('orbit_map.txt', names=['parent','child'],sep =')' )"
   ]
  },
  {
   "cell_type": "code",
   "execution_count": 65,
   "metadata": {},
   "outputs": [
    {
     "data": {
      "text/plain": [
       "'GLM'"
      ]
     },
     "execution_count": 65,
     "metadata": {},
     "output_type": "execute_result"
    }
   ],
   "source": [
    "map.loc[map['child']=='26P'].parent.iloc[0]"
   ]
  },
  {
   "cell_type": "code",
   "execution_count": null,
   "metadata": {},
   "outputs": [],
   "source": []
  },
  {
   "cell_type": "code",
   "execution_count": 70,
   "metadata": {},
   "outputs": [
    {
     "name": "stdout",
     "output_type": "stream",
     "text": [
      "130681\n"
     ]
    }
   ],
   "source": [
    "#orbits=Counter()\n",
    "j=0\n",
    "for child in map['child']:\n",
    "    parent=''\n",
    "    while parent!='COM':\n",
    "        parent=map.loc[map['child']==child].parent.iloc[0]\n",
    "        j+=1\n",
    "        child=parent\n",
    "print(j)"
   ]
  },
  {
   "cell_type": "code",
   "execution_count": 71,
   "metadata": {},
   "outputs": [],
   "source": [
    "orbit_you=[]\n",
    "parent=''\n",
    "child='YOU'\n",
    "while parent!='COM':\n",
    "    parent=map.loc[map['child']==child].parent.iloc[0]\n",
    "    orbit_you.append(parent)\n",
    "    child=parent\n",
    "\n",
    "orbit_san=[]\n",
    "parent=''\n",
    "child='SAN'\n",
    "while parent!='COM':\n",
    "    parent=map.loc[map['child']==child].parent.iloc[0]\n",
    "    orbit_san.append(parent)\n",
    "    child=parent\n",
    "    "
   ]
  },
  {
   "cell_type": "code",
   "execution_count": 75,
   "metadata": {},
   "outputs": [
    {
     "name": "stdout",
     "output_type": "stream",
     "text": [
      "min=313\n"
     ]
    }
   ],
   "source": [
    "min_distance=99999999\n",
    "for orbit in orbit_san:\n",
    "    if orbit in orbit_you:\n",
    "        min_distance=min(min_distance,(orbit_san.index(orbit)+orbit_you.index(orbit)))\n",
    "print (f'min={min_distance}')\n"
   ]
  },
  {
   "cell_type": "code",
   "execution_count": null,
   "metadata": {},
   "outputs": [],
   "source": [
    "print((len(orbit_san)-69)+len(orbit_you)"
   ]
  }
 ],
 "metadata": {
  "kernelspec": {
   "display_name": "Python 3",
   "language": "python",
   "name": "python3"
  },
  "language_info": {
   "codemirror_mode": {
    "name": "ipython",
    "version": 3
   },
   "file_extension": ".py",
   "mimetype": "text/x-python",
   "name": "python",
   "nbconvert_exporter": "python",
   "pygments_lexer": "ipython3",
   "version": "3.7.3"
  }
 },
 "nbformat": 4,
 "nbformat_minor": 2
}
