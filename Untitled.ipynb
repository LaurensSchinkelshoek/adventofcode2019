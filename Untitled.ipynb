{
 "cells": [
  {
   "cell_type": "code",
   "execution_count": 5,
   "metadata": {},
   "outputs": [],
   "source": [
    "import numpy as np\n",
    "from utils import get_input \n",
    "import re\n",
    "import itertools\n",
    "import matplotlib.pyplot as plt\n",
    "from IPython.display import display, clear_output"
   ]
  },
  {
   "cell_type": "code",
   "execution_count": 6,
   "metadata": {},
   "outputs": [],
   "source": [
    "class Moon:\n",
    "    def __init__(self,position):\n",
    "        self.pos=position\n",
    "        self.vel=np.zeros((3),dtype=int)\n",
    "        self.pot=np.sum(np.abs(self.pos))\n",
    "        self.kin=0\n",
    "        self.tot=self.pot*self.kin\n",
    "        return None\n",
    "    \n",
    "    def energy(self):\n",
    "        self.pot=np.sum(np.abs(self.pos))\n",
    "        self.kin=np.sum(np.abs(self.vel))\n",
    "        self.tot=self.pot*self.kin\n",
    "        return self.tot\n",
    "\n",
    "def update_vel(moons):\n",
    "    for moon1,moon2 in itertools.product(moons, moons):\n",
    "        if moon1!=moon2:\n",
    "            delta=moons[moon2].pos-moons[moon1].pos\n",
    "            for i in range(len(delta)):\n",
    "                if delta[i]!=0:\n",
    "                    delta[i]=delta[i]/abs(delta[i])\n",
    "            moons[moon1].vel+=delta\n",
    "\n",
    "def update_pos(moons):\n",
    "    for moon in moons:\n",
    "        moons[moon].pos+=moons[moon].vel\n",
    "\n",
    "def safe_state(moons):\n",
    "    state={}\n",
    "    for moon in moons:#zip(moons,range(len(moons))):\n",
    "        state[moon]=np.concatenate((moons[moon].pos,moons[moon].vel))\n",
    "    return state\n",
    "\n",
    "def total_energy(moons):\n",
    "    return sum([moons[moon].energy() for moon in moons])\n",
    "\n",
    "def sum_vel(moons):\n",
    "    return np.sum(np.abs([moons[moon].vel for mooon in moons]))\n"
   ]
  },
  {
   "cell_type": "code",
   "execution_count": 23,
   "metadata": {},
   "outputs": [],
   "source": [
    "moons={'Io':0,'Europa':0,'Ganymede':0,'Callisto':0}"
   ]
  },
  {
   "cell_type": "code",
   "execution_count": 24,
   "metadata": {},
   "outputs": [],
   "source": [
    "#read starting position and create moons\n",
    "tekst=get_input('day12_ex1.txt')\n",
    "for line,moon in zip(tekst.split('\\n'),moons):\n",
    "    moons[moon]=Moon(np.asarray([int(x) for x in re.findall(\"[+-]?\\d+\",line)]))\n"
   ]
  },
  {
   "cell_type": "code",
   "execution_count": 26,
   "metadata": {},
   "outputs": [
    {
     "ename": "KeyboardInterrupt",
     "evalue": "",
     "output_type": "error",
     "traceback": [
      "\u001b[1;31m---------------------------------------------------------------------------\u001b[0m",
      "\u001b[1;31mKeyboardInterrupt\u001b[0m                         Traceback (most recent call last)",
      "\u001b[1;32m<ipython-input-26-b7db21bb1000>\u001b[0m in \u001b[0;36m<module>\u001b[1;34m\u001b[0m\n\u001b[0;32m     15\u001b[0m         \u001b[0mdisplay\u001b[0m\u001b[1;33m(\u001b[0m\u001b[0mfig\u001b[0m\u001b[1;33m)\u001b[0m\u001b[1;33m\u001b[0m\u001b[1;33m\u001b[0m\u001b[0m\n\u001b[0;32m     16\u001b[0m         \u001b[0mclear_output\u001b[0m\u001b[1;33m(\u001b[0m\u001b[0mwait\u001b[0m \u001b[1;33m=\u001b[0m \u001b[1;32mTrue\u001b[0m\u001b[1;33m)\u001b[0m\u001b[1;33m\u001b[0m\u001b[1;33m\u001b[0m\u001b[0m\n\u001b[1;32m---> 17\u001b[1;33m         \u001b[0mplt\u001b[0m\u001b[1;33m.\u001b[0m\u001b[0mpause\u001b[0m\u001b[1;33m(\u001b[0m\u001b[1;36m0.5\u001b[0m\u001b[1;33m)\u001b[0m\u001b[1;33m\u001b[0m\u001b[1;33m\u001b[0m\u001b[0m\n\u001b[0m\u001b[0;32m     18\u001b[0m     \u001b[1;32mif\u001b[0m \u001b[0mnp\u001b[0m\u001b[1;33m.\u001b[0m\u001b[0marray_equal\u001b[0m\u001b[1;33m(\u001b[0m\u001b[0minitial_state\u001b[0m\u001b[1;33m,\u001b[0m\u001b[0msafe_state\u001b[0m\u001b[1;33m(\u001b[0m\u001b[0mmoons\u001b[0m\u001b[1;33m)\u001b[0m\u001b[1;33m)\u001b[0m\u001b[1;33m:\u001b[0m\u001b[1;33m\u001b[0m\u001b[1;33m\u001b[0m\u001b[0m\n\u001b[0;32m     19\u001b[0m         \u001b[0mfound\u001b[0m\u001b[1;33m=\u001b[0m\u001b[1;32mTrue\u001b[0m\u001b[1;33m\u001b[0m\u001b[1;33m\u001b[0m\u001b[0m\n",
      "\u001b[1;32mC:\\ProgramData\\Anaconda3\\lib\\site-packages\\matplotlib\\pyplot.py\u001b[0m in \u001b[0;36mpause\u001b[1;34m(interval)\u001b[0m\n\u001b[0;32m    304\u001b[0m         \u001b[0mcanvas\u001b[0m\u001b[1;33m.\u001b[0m\u001b[0mstart_event_loop\u001b[0m\u001b[1;33m(\u001b[0m\u001b[0minterval\u001b[0m\u001b[1;33m)\u001b[0m\u001b[1;33m\u001b[0m\u001b[1;33m\u001b[0m\u001b[0m\n\u001b[0;32m    305\u001b[0m     \u001b[1;32melse\u001b[0m\u001b[1;33m:\u001b[0m\u001b[1;33m\u001b[0m\u001b[1;33m\u001b[0m\u001b[0m\n\u001b[1;32m--> 306\u001b[1;33m         \u001b[0mtime\u001b[0m\u001b[1;33m.\u001b[0m\u001b[0msleep\u001b[0m\u001b[1;33m(\u001b[0m\u001b[0minterval\u001b[0m\u001b[1;33m)\u001b[0m\u001b[1;33m\u001b[0m\u001b[1;33m\u001b[0m\u001b[0m\n\u001b[0m\u001b[0;32m    307\u001b[0m \u001b[1;33m\u001b[0m\u001b[0m\n\u001b[0;32m    308\u001b[0m \u001b[1;33m\u001b[0m\u001b[0m\n",
      "\u001b[1;31mKeyboardInterrupt\u001b[0m: "
     ]
    }
   ],
   "source": [
    "i=0\n",
    "initial_state=safe_state(moons).copy()\n",
    "found=False\n",
    "fig = plt.figure()\n",
    "ax = fig.add_subplot(1, 1, 1) \n",
    "#state=safe_state(moons)\n",
    "while found == False:\n",
    "    update_vel(moons)\n",
    "    update_pos(moons)\n",
    "    i+=1\n",
    "    energy=total_energy(moons)\n",
    "    if i%100:\n",
    "        ax.set_xlim(0, 2800)\n",
    "        ax.plot(i, energy,marker='x')\n",
    "        display(fig)\n",
    "        clear_output(wait = True)\n",
    "        plt.pause(0.5)\n",
    "    if np.array_equal(initial_state,safe_state(moons)):\n",
    "        found=True"
   ]
  },
  {
   "cell_type": "code",
   "execution_count": null,
   "metadata": {},
   "outputs": [],
   "source": []
  }
 ],
 "metadata": {
  "kernelspec": {
   "display_name": "Python 3",
   "language": "python",
   "name": "python3"
  },
  "language_info": {
   "codemirror_mode": {
    "name": "ipython",
    "version": 3
   },
   "file_extension": ".py",
   "mimetype": "text/x-python",
   "name": "python",
   "nbconvert_exporter": "python",
   "pygments_lexer": "ipython3",
   "version": "3.7.3"
  }
 },
 "nbformat": 4,
 "nbformat_minor": 2
}
